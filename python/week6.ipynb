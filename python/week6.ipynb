{
 "cells": [
  {
   "cell_type": "code",
   "execution_count": 1,
   "metadata": {},
   "outputs": [
    {
     "ename": "TypeError",
     "evalue": "ufunc 'bitwise_xor' not supported for the input types, and the inputs could not be safely coerced to any supported types according to the casting rule ''safe''",
     "output_type": "error",
     "traceback": [
      "\u001b[1;31m---------------------------------------------------------------------------\u001b[0m",
      "\u001b[1;31mTypeError\u001b[0m                                 Traceback (most recent call last)",
      "\u001b[1;32md:\\VSCode\\python\\week6.ipynb 셀 1\u001b[0m in \u001b[0;36m<cell line: 9>\u001b[1;34m()\u001b[0m\n\u001b[0;32m      <a href='vscode-notebook-cell:/d%3A/VSCode/python/week6.ipynb#W0sZmlsZQ%3D%3D?line=5'>6</a>\u001b[0m plt\u001b[39m.\u001b[39mfigure(figsize\u001b[39m=\u001b[39m(\u001b[39m5\u001b[39m, \u001b[39m5\u001b[39m), dpi\u001b[39m=\u001b[39m\u001b[39m80\u001b[39m)\n\u001b[0;32m      <a href='vscode-notebook-cell:/d%3A/VSCode/python/week6.ipynb#W0sZmlsZQ%3D%3D?line=7'>8</a>\u001b[0m plt\u001b[39m.\u001b[39msubplot(\u001b[39m1\u001b[39m,\u001b[39m1\u001b[39m,\u001b[39m1\u001b[39m)\n\u001b[1;32m----> <a href='vscode-notebook-cell:/d%3A/VSCode/python/week6.ipynb#W0sZmlsZQ%3D%3D?line=8'>9</a>\u001b[0m C, S \u001b[39m=\u001b[39m X\u001b[39m^\u001b[39;49m\u001b[39m2\u001b[39;49m, plt\u001b[39m.\u001b[39msqrt(X)\n\u001b[0;32m     <a href='vscode-notebook-cell:/d%3A/VSCode/python/week6.ipynb#W0sZmlsZQ%3D%3D?line=9'>10</a>\u001b[0m plt\u001b[39m.\u001b[39mxlim(X\u001b[39m.\u001b[39mmin() \u001b[39m*\u001b[39m \u001b[39m0\u001b[39m, X\u001b[39m.\u001b[39mmax() \u001b[39m*\u001b[39m \u001b[39m1.1\u001b[39m)\n\u001b[0;32m     <a href='vscode-notebook-cell:/d%3A/VSCode/python/week6.ipynb#W0sZmlsZQ%3D%3D?line=10'>11</a>\u001b[0m plt\u001b[39m.\u001b[39mylim(C\u001b[39m.\u001b[39mmin() \u001b[39m*\u001b[39m \u001b[39m0\u001b[39m, C\u001b[39m.\u001b[39mmax() \u001b[39m*\u001b[39m \u001b[39m1.1\u001b[39m)\n",
      "\u001b[1;31mTypeError\u001b[0m: ufunc 'bitwise_xor' not supported for the input types, and the inputs could not be safely coerced to any supported types according to the casting rule ''safe''"
     ]
    }
   ],
   "source": [
    "from matplotlib import pyplot as plt\n",
    "import numpy as np\n",
    "%matplotlib qt\n",
    "\n",
    "X = np.linspace(0,1,100)\n",
    "plt.figure(figsize=(5, 5), dpi=80)\n",
    "\n",
    "plt.subplot(1,1,1)\n",
    "C, S = X^2, plt.sqrt(X)\n",
    "plt.xlim(X.min() * 0, X.max() * 1.1)\n",
    "plt.ylim(C.min() * 0, C.max() * 1.1)\n",
    "plt.xticks([0, 1/2, 1],[r'$0$', r'$frac{1}{2}$', r'$1$'])  #laltex \\frac과 \\sqrt 사용\n",
    "plt.yticks([1/4, 1/(2^1/2), 1],[r'$frac{1}{4}$', r'$frac{1}{\\sqrt{2}}$', r'$1$'] )#label =\"latex equation\"\n",
    "plt.plot(X, C, color=\"blue\",linewidth=2.5, linestyle=\"-\", label =\"square\")\n",
    "plt.plot(X, S, color =\"red\", linewidth=2.5, linestyle=\"-\", label = \"square root\")\n",
    "plt.legend(loc='upper left')"
   ]
  },
  {
   "cell_type": "code",
   "execution_count": 1,
   "metadata": {},
   "outputs": [
    {
     "data": {
      "text/plain": [
       "<matplotlib.collections.PathCollection at 0x1febdde43d0>"
      ]
     },
     "execution_count": 1,
     "metadata": {},
     "output_type": "execute_result"
    }
   ],
   "source": [
    "%matplotlib qt\n",
    "import numpy as np\n",
    "from matplotlib import pyplot as plt\n",
    "import matplotlib.pyplot as plt\n",
    "plt.figure(figsize=(24,13.5), dpi=80) #전체 figure size는 80dpi, 5x5 inch로 설정\n",
    "plt.subplot(1, 1, 1)\n",
    "X = np.linspace(0, 1, 100) #x를 numpy.linspace를 이용하여 0~1에서 100개의 sample point를 취한다.\n",
    "plt.plot(X,  X**2, color=\"blue\", linewidth=2.5, linestyle=\"-\", label=\"square\") #y=x의 제곱(파란색)과 \n",
    "plt.plot(X, X**(1/2), color=\"red\",  linewidth=2.5, linestyle=\"-\", label=\"square root\") #y=루트 2(빨간색)을 그린다 (linewidth=2.5)\n",
    "plt.xlim(0, 1.1)\n",
    "plt.ylim(0, 1.1)\n",
    "plt.legend(loc='upper left') #egend 는 왼쪽 위에 배치 시킨다\n",
    "ax = plt.gca()\n",
    "\n",
    "ax.TickLabelInterpreter='latex'\n",
    "plt.xticks([0,1/2,1],['0', r'$\\frac{1}{2}$','1'])\n",
    "plt.yticks([1/4,1/(2**0.5),1],[r'$\\frac{1}{4}$',r'$\\frac{1}{\\sqrt{2}}$','1'])\n",
    "\n",
    "ax.spines['right'].set_color('none')\n",
    "ax.spines['top'].set_color('none')\n",
    "plt.hlines(1/(2**0.5),0,1/2,color='red', linewidth=1.5,linestyles='dashed')\n",
    "plt.hlines(1/4,0,1/2,color='blue', linewidth=1.5,linestyles='dashed')\n",
    "plt.vlines(1/2,0,1/(2**0.5),color='black', linewidth=1.5,linestyles='dashed')\n",
    "\n",
    "plt.scatter( 0.5 ,1/(2**0.5) , s = 50,color='red' )\n",
    "plt.scatter( 0.5 ,1/4 , s = 50,color='blue' )"
   ]
  }
 ],
 "metadata": {
  "kernelspec": {
   "display_name": "Python 3.8.8 ('base')",
   "language": "python",
   "name": "python3"
  },
  "language_info": {
   "codemirror_mode": {
    "name": "ipython",
    "version": 3
   },
   "file_extension": ".py",
   "mimetype": "text/x-python",
   "name": "python",
   "nbconvert_exporter": "python",
   "pygments_lexer": "ipython3",
   "version": "3.8.8"
  },
  "orig_nbformat": 4,
  "vscode": {
   "interpreter": {
    "hash": "5fff6dc56112f11e31e59051982e90185311df7b0c2c691e623a902eea597044"
   }
  }
 },
 "nbformat": 4,
 "nbformat_minor": 2
}
