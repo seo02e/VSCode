{
 "cells": [
  {
   "cell_type": "code",
   "execution_count": null,
   "metadata": {},
   "outputs": [],
   "source": []
  },
  {
   "cell_type": "code",
   "execution_count": 2,
   "metadata": {},
   "outputs": [],
   "source": [
    "import numpy as np\n",
    "import matplotlib.pyplot as plt\n",
    "%matplotlib qt\n",
    "\n",
    "X = np.linspace(0,1,100)\n",
    "\n",
    "x = np.linspace(0,2*np.pi,100)\n",
    "\n",
    "f = np.cos(x) #cos 값\n",
    "Y1 = X\n",
    "Y2 = X**2\n",
    "Y3 = X**(1/2)\n",
    "Y4 = f\n",
    "\n",
    "plt.figure(figsize=(4,8),dpi=80)\n",
    "\n",
    "plt.subplot(5,1,1)\n",
    "plt.plot(X,Y1)\n",
    "\n",
    "plt.subplot(5,1,2)\n",
    "plt.plot(X,Y2)\n",
    "\n",
    "plt.subplot(5,1,3)\n",
    "plt.plot(X,Y3)\n",
    "\n",
    "plt.subplot(5,1,4)\n",
    "plt.plot(x,f)\n",
    "\n",
    "plt.subplot(5,1,5)\n",
    "arr = np.random.rand(30,30)\n",
    "plt.imshow(arr,cmap='gray')\n",
    "\n",
    "plt.show()"
   ]
  },
  {
   "cell_type": "code",
   "execution_count": 3,
   "metadata": {},
   "outputs": [
    {
     "ename": "AttributeError",
     "evalue": "module 'numpy' has no attribute 'may_shqare_memory'",
     "output_type": "error",
     "traceback": [
      "\u001b[1;31m---------------------------------------------------------------------------\u001b[0m",
      "\u001b[1;31mAttributeError\u001b[0m                            Traceback (most recent call last)",
      "\u001b[1;32md:\\VSCode\\python\\week4_test.ipynb 셀 3\u001b[0m in \u001b[0;36m<cell line: 5>\u001b[1;34m()\u001b[0m\n\u001b[0;32m      <a href='vscode-notebook-cell:/d%3A/VSCode/python/week4_test.ipynb#W1sZmlsZQ%3D%3D?line=2'>3</a>\u001b[0m a \u001b[39m=\u001b[39m np\u001b[39m.\u001b[39marange(\u001b[39m5\u001b[39m)\n\u001b[0;32m      <a href='vscode-notebook-cell:/d%3A/VSCode/python/week4_test.ipynb#W1sZmlsZQ%3D%3D?line=3'>4</a>\u001b[0m b\u001b[39m=\u001b[39ma[::\u001b[39m2\u001b[39m]\n\u001b[1;32m----> <a href='vscode-notebook-cell:/d%3A/VSCode/python/week4_test.ipynb#W1sZmlsZQ%3D%3D?line=4'>5</a>\u001b[0m \u001b[39mprint\u001b[39m(np\u001b[39m.\u001b[39;49mmay_shqare_memory(a,b))\n\u001b[0;32m      <a href='vscode-notebook-cell:/d%3A/VSCode/python/week4_test.ipynb#W1sZmlsZQ%3D%3D?line=5'>6</a>\u001b[0m b[\u001b[39m0\u001b[39m]\u001b[39m=\u001b[39m\u001b[39m6\u001b[39m\n\u001b[0;32m      <a href='vscode-notebook-cell:/d%3A/VSCode/python/week4_test.ipynb#W1sZmlsZQ%3D%3D?line=6'>7</a>\u001b[0m c\u001b[39m=\u001b[39ma[::\u001b[39m2\u001b[39m]\u001b[39m.\u001b[39mcopy()\n",
      "File \u001b[1;32mc:\\Users\\seo02\\anaconda3\\lib\\site-packages\\numpy\\__init__.py:313\u001b[0m, in \u001b[0;36m__getattr__\u001b[1;34m(attr)\u001b[0m\n\u001b[0;32m    310\u001b[0m     \u001b[39mfrom\u001b[39;00m \u001b[39m.\u001b[39;00m\u001b[39mtesting\u001b[39;00m \u001b[39mimport\u001b[39;00m Tester\n\u001b[0;32m    311\u001b[0m     \u001b[39mreturn\u001b[39;00m Tester\n\u001b[1;32m--> 313\u001b[0m \u001b[39mraise\u001b[39;00m \u001b[39mAttributeError\u001b[39;00m(\u001b[39m\"\u001b[39m\u001b[39mmodule \u001b[39m\u001b[39m{!r}\u001b[39;00m\u001b[39m has no attribute \u001b[39m\u001b[39m\"\u001b[39m\n\u001b[0;32m    314\u001b[0m                      \u001b[39m\"\u001b[39m\u001b[39m{!r}\u001b[39;00m\u001b[39m\"\u001b[39m\u001b[39m.\u001b[39mformat(\u001b[39m__name__\u001b[39m, attr))\n",
      "\u001b[1;31mAttributeError\u001b[0m: module 'numpy' has no attribute 'may_shqare_memory'"
     ]
    }
   ],
   "source": [
    "import numpy as np\n",
    "\n",
    "a = np.arange(5)\n",
    "b=a[::2]\n",
    "print(np.may_shqare_memory(a,b))\n",
    "b[0]=6\n",
    "c=a[::2].copy()\n",
    "c[0] =7"
   ]
  },
  {
   "cell_type": "code",
   "execution_count": 5,
   "metadata": {},
   "outputs": [
    {
     "name": "stdout",
     "output_type": "stream",
     "text": [
      "[0 1 2 3 4] [1 2 3 4 5] [1 2 3 4 5] [1 2 3 4 5]\n"
     ]
    }
   ],
   "source": [
    "import numpy as np\n",
    "\n",
    "a = np.arange(5)\n",
    "b = np.arange(1,6,1)\n",
    "c = np.array([1,2,3,4,5])\n",
    "d = np.linspace(1,5,5,dtype=int)\n",
    "\n",
    "print(a,b,c,d)"
   ]
  }
 ],
 "metadata": {
  "kernelspec": {
   "display_name": "Python 3.8.8 ('base')",
   "language": "python",
   "name": "python3"
  },
  "language_info": {
   "codemirror_mode": {
    "name": "ipython",
    "version": 3
   },
   "file_extension": ".py",
   "mimetype": "text/x-python",
   "name": "python",
   "nbconvert_exporter": "python",
   "pygments_lexer": "ipython3",
   "version": "3.8.8"
  },
  "orig_nbformat": 4,
  "vscode": {
   "interpreter": {
    "hash": "5fff6dc56112f11e31e59051982e90185311df7b0c2c691e623a902eea597044"
   }
  }
 },
 "nbformat": 4,
 "nbformat_minor": 2
}
