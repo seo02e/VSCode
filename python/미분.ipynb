{
 "cells": [
  {
   "cell_type": "markdown",
   "metadata": {},
   "source": [
    "#### 미분\n",
    "- $x=a$ 에서의 $f(x)$의 미분의 정의\n",
    ">$f'(a)=\\underset{x \\to a}{lim} \\frac{f(x) - f(a)}{x - a}$\n",
    "- 이산구조에서의 미분 (Finite difference)\n",
    "> - forward difference\n",
    ">>$f'(x_j)=\\frac{f(x_{j+1})−f(x_j)}{x_{j+1}−x_j}$\n",
    "> - backward difference\n",
    ">>$f'(x_j)=\\frac{f(x_j)−f(x_{j-1})}{x_j−x_{j-1}}$\n",
    "> - central difference\n",
    ">>$f'(x_j)=\\frac{f(x_{j+1})−f(x_{j-1})}{x_{j+1}−x_{j-1}}$\n",
    "  \n",
    "<img src='Finite-difference.png' width='800px'>"
   ]
  },
  {
   "cell_type": "code",
   "execution_count": 3,
   "metadata": {},
   "outputs": [
    {
     "data": {
      "text/plain": [
       "-1.0"
      ]
     },
     "execution_count": 3,
     "metadata": {},
     "output_type": "execute_result"
    }
   ],
   "source": [
    "import numpy as np\n",
    "import matplotlib.pyplot as plt\n",
    "#Example: sin(x)의 미분은 cos(x)\n",
    "a=np.pi\n",
    "tdiff = np.cos(a)\n",
    "tdiff"
   ]
  },
  {
   "cell_type": "code",
   "execution_count": 6,
   "metadata": {},
   "outputs": [
    {
     "data": {
      "text/plain": [
       "-0.9983341664682823"
      ]
     },
     "execution_count": 6,
     "metadata": {},
     "output_type": "execute_result"
    }
   ],
   "source": [
    "# \n",
    "delta = 0.1\n",
    "diff = (np.sin(a+delta)-np.sin(a))/delta\n",
    "diff"
   ]
  },
  {
   "cell_type": "code",
   "execution_count": 27,
   "metadata": {},
   "outputs": [
    {
     "data": {
      "text/plain": [
       "[<matplotlib.lines.Line2D at 0x21ff77d5c70>]"
      ]
     },
     "execution_count": 27,
     "metadata": {},
     "output_type": "execute_result"
    },
    {
     "data": {
      "image/png": "[encoded data removed]",
      "text/plain": [
       "<Figure size 432x288 with 1 Axes>"
      ]
     },
     "metadata": {
      "needs_background": "light"
     },
     "output_type": "display_data"
    }
   ],
   "source": [
    "x=np.linspace(0,np.pi/2,10)\n",
    "delta = x[1]-x[0]\n",
    "diffs = (np.sin(x[1:])-np.sin(x[:-1]))/delta\n",
    "plt.plot(x,np.cos(x),'r')\n",
    "plt.plot(x[1:],diffs,'b')"
   ]
  },
  {
   "cell_type": "code",
   "execution_count": 42,
   "metadata": {},
   "outputs": [
    {
     "data": {
      "image/png": "[encoded data removed]",
      "text/plain": [
       "<Figure size 432x288 with 1 Axes>"
      ]
     },
     "metadata": {
      "needs_background": "light"
     },
     "output_type": "display_data"
    }
   ],
   "source": [
    "# define step size\n",
    "h = 1\n",
    "# define number of iterations to perform\n",
    "iterations = 20 \n",
    "# list to store our step sizes\n",
    "step_size = [] \n",
    "# list to store max error for each step size\n",
    "max_error = [] \n",
    "\n",
    "for i in range(iterations):\n",
    "    # halve the step size\n",
    "    h /= 2 \n",
    "    # store this step size\n",
    "    step_size.append(h) \n",
    "    # compute new grid\n",
    "    x = np.arange(0, 2 * np.pi, h) \n",
    "    # compute function value at grid\n",
    "    y = np.cos(x) \n",
    "    # compute vector of forward differences\n",
    "    forward_diff = np.diff(y)/h \n",
    "    # compute corresponding grid\n",
    "    x_diff = x[:-1] \n",
    "    # compute exact solution\n",
    "    exact_solution = -np.sin(x_diff) \n",
    "    \n",
    "    # Compute max error between \n",
    "    # numerical derivative and exact solution\n",
    "    max_error.append(\\\n",
    "            max(abs(exact_solution - forward_diff)))\n",
    "\n",
    "# produce log-log plot of max error versus step size\n",
    "plt.loglog(step_size, max_error, 'v')\n",
    "plt.grid()"
   ]
  },
  {
   "cell_type": "markdown",
   "metadata": {},
   "source": [
    "#### 실습\n",
    "$sin(x), 0\\le x \\le \\frac{\\pi}{2}$ 에 대하여 상기와 같이 step size를 바꿔가면서 max error의 경향을 조사해라"
   ]
  }
 ],
 "metadata": {
  "kernelspec": {
   "display_name": "Python 3.9.12 ('base')",
   "language": "python",
   "name": "python3"
  },
  "language_info": {
   "codemirror_mode": {
    "name": "ipython",
    "version": 3
   },
   "file_extension": ".py",
   "mimetype": "text/x-python",
   "name": "python",
   "nbconvert_exporter": "python",
   "pygments_lexer": "ipython3",
   "version": "3.9.12"
  },
  "orig_nbformat": 4,
  "vscode": {
   "interpreter": {
    "hash": "b815afd0457fcb58f091c34581b9d0e96c479470ced306110ae68110bec53a84"
   }
  }
 },
 "nbformat": 4,
 "nbformat_minor": 2
}
