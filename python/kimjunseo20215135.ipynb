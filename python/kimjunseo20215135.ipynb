{
 "cells": [
  {
   "cell_type": "code",
   "execution_count": 1,
   "metadata": {},
   "outputs": [
    {
     "name": "stdout",
     "output_type": "stream",
     "text": [
      "Hello world!\n"
     ]
    }
   ],
   "source": [
    "print(\"Hello world!\")"
   ]
  },
  {
   "cell_type": "code",
   "execution_count": 2,
   "metadata": {},
   "outputs": [
    {
     "data": {
      "text/plain": [
       "int"
      ]
     },
     "execution_count": 2,
     "metadata": {},
     "output_type": "execute_result"
    }
   ],
   "source": [
    "a =100\n",
    "type(a)\n"
   ]
  },
  {
   "cell_type": "code",
   "execution_count": 3,
   "metadata": {},
   "outputs": [
    {
     "data": {
      "text/plain": [
       "float"
      ]
     },
     "execution_count": 3,
     "metadata": {},
     "output_type": "execute_result"
    }
   ],
   "source": [
    "a=100.\n",
    "type(a)\n"
   ]
  },
  {
   "cell_type": "code",
   "execution_count": 4,
   "metadata": {},
   "outputs": [
    {
     "ename": "NameError",
     "evalue": "name 'plt' is not defined",
     "output_type": "error",
     "traceback": [
      "\u001b[1;31m---------------------------------------------------------------------------\u001b[0m",
      "\u001b[1;31mNameError\u001b[0m                                 Traceback (most recent call last)",
      "Cell \u001b[1;32mIn [4], line 15\u001b[0m\n\u001b[0;32m     13\u001b[0m     \u001b[38;5;28;01mif\u001b[39;00m \u001b[38;5;28miter\u001b[39m \u001b[38;5;241m>\u001b[39m ilim: \u001b[38;5;28;01mbreak\u001b[39;00m\n\u001b[0;32m     14\u001b[0m \u001b[38;5;28;01mif\u001b[39;00m \u001b[38;5;28miter\u001b[39m \u001b[38;5;241m>\u001b[39m ilim: \n\u001b[1;32m---> 15\u001b[0m     \u001b[43mplt\u001b[49m\u001b[38;5;241m.\u001b[39mplot(x,y,\u001b[38;5;124m'\u001b[39m\u001b[38;5;124mb.\u001b[39m\u001b[38;5;124m'\u001b[39m)\n",
      "\u001b[1;31mNameError\u001b[0m: name 'plt' is not defined"
     ]
    }
   ],
   "source": [
    "import numpy as np\n",
    "X=np.linspace(-10,1,1000)\n",
    "Y=np.linspace(-1,1,100)\n",
    "ilim = 10000\n",
    "for y in Y:\n",
    "    for x in X:\n",
    "        c = x+y*1j\n",
    "        iter = 0\n",
    "        z=0\n",
    "        while abs(z) < 100:\n",
    "            z = z**2 + c\n",
    "            iter += 1\n",
    "            if iter > ilim: break\n",
    "        if iter > ilim: \n",
    "            plt.plot(x,y,'b.')\n"
   ]
  },
  {
   "cell_type": "code",
   "execution_count": null,
   "metadata": {},
   "outputs": [],
   "source": [
    "import random #f04테스트를 위한 import\n",
    "\n",
    "def f01(start, end):\n",
    "    sum =0\n",
    "    for i in range(start, end+1):\n",
    "        sum += i\n",
    "    return sum\n",
    "\n",
    "print(\"f01함수 반환값 확인 : \", f01(5,6))\n",
    "\n",
    "def f02(lt):\n",
    "    M = max(lt)\n",
    "    for i in range(len(lt)):\n",
    "        lt[i] = round(lt[i]/M, 2)\n",
    "    return lt\n",
    "\n",
    "print(\"f02함수 반환값 확인 : \", f02([4,5,6]))\n",
    "\n",
    "def f03(n):\n",
    "    a, b = 1,1\n",
    "    lt = [a,b]\n",
    "    for i in range(n):\n",
    "        hap = a+b\n",
    "        lt.append(hap)\n",
    "        a, b= b, hap\n",
    "    return lt\n",
    "    \n",
    "print(\"f03함수 반환값 확인 : \", f03(5))\n",
    "\n",
    "def f04(array):\n",
    "    if len(array)<2:\n",
    "        return array\n",
    "    else:\n",
    "        less = []\n",
    "        greater = []\n",
    "        pivot = array[0]\n",
    "        for x in array[1:]:\n",
    "            if x < pivot+1:\n",
    "                less.append(x)\n",
    "            else :\n",
    "                greater.append(x) \n",
    "        return f04(less) + [pivot] + f04(greater)\n",
    "\n",
    "testlist = [random.randint(0,100) for value in range(0,10)]\n",
    "print( \"기존 리스트 : \", testlist)\n",
    "print(\"f04함수 반환후 리스트 : \", f04(testlist))"
   ]
  },
  {
   "cell_type": "code",
   "execution_count": null,
   "metadata": {},
   "outputs": [],
   "source": [
    "def f04(array, start, end):\n",
    "    if start >= end: return\n",
    "    pivot = start\n",
    "    left, right = start + 1, end\n",
    "    \n",
    "    while left <= right:\n",
    "        while left <= end and array[left] <= array[pivot]:\n",
    "            left += 1\n",
    "        while right > start and array[right] >= array[pivot]:\n",
    "            right -= 1\n",
    "        if left > right:\n",
    "            array[right], array[pivot] = array[pivot], array[right]\n",
    "        else:\n",
    "            array[right], array[left] = array[left], array[right]\n",
    "\n",
    "\n",
    "f04(array, start, right - 1)\n",
    "f04(array, right + 1, end)\n"
   ]
  }
 ],
 "metadata": {
  "kernelspec": {
   "display_name": "Python 3.9.7 64-bit",
   "language": "python",
   "name": "python3"
  },
  "language_info": {
   "codemirror_mode": {
    "name": "ipython",
    "version": 3
   },
   "file_extension": ".py",
   "mimetype": "text/x-python",
   "name": "python",
   "nbconvert_exporter": "python",
   "pygments_lexer": "ipython3",
   "version": "3.9.7"
  },
  "orig_nbformat": 4,
  "vscode": {
   "interpreter": {
    "hash": "9801b2a827a76f5793a8070ff2f4ddde78880cfa3a50be3e9ab942dae1ab5ef7"
   }
  }
 },
 "nbformat": 4,
 "nbformat_minor": 2
}
