{
 "cells": [
  {
   "cell_type": "code",
   "execution_count": 1,
   "metadata": {},
   "outputs": [
    {
     "name": "stdout",
     "output_type": "stream",
     "text": [
      "Hellow world!\n"
     ]
    }
   ],
   "source": [
    "print(\"Hellow world!\")"
   ]
  },
  {
   "cell_type": "code",
   "execution_count": 2,
   "metadata": {},
   "outputs": [
    {
     "ename": "NameError",
     "evalue": "name 'array' is not defined",
     "output_type": "error",
     "traceback": [
      "\u001b[1;31m---------------------------------------------------------------------------\u001b[0m",
      "\u001b[1;31mNameError\u001b[0m                                 Traceback (most recent call last)",
      "Cell \u001b[1;32mIn [2], line 40\u001b[0m\n\u001b[0;32m     36\u001b[0m         \u001b[38;5;28;01melse\u001b[39;00m:\n\u001b[0;32m     37\u001b[0m             array[right], array[left] \u001b[38;5;241m=\u001b[39m array[left], array[right]\n\u001b[1;32m---> 40\u001b[0m f04(\u001b[43marray\u001b[49m, start, right \u001b[38;5;241m-\u001b[39m \u001b[38;5;241m1\u001b[39m)\n\u001b[0;32m     41\u001b[0m f04(array, right \u001b[38;5;241m+\u001b[39m \u001b[38;5;241m1\u001b[39m, end)\n",
      "\u001b[1;31mNameError\u001b[0m: name 'array' is not defined"
     ]
    }
   ],
   "source": [
    "import numpy as np\n",
    "def f01(start, end):\n",
    "    sum =0\n",
    "    for i in range(start, end+1):\n",
    "        sum += i\n",
    "    return sum\n",
    "\n",
    "def f02(lt):\n",
    "    M = lt[0]\n",
    "    M = max(lt)\n",
    "    for i in range(len(lt)):\n",
    "        lt[i] = round(lt[i] / M, 2)\n",
    "    return lt\n",
    "\n",
    "def f03(n):\n",
    "    a, b = 1,1\n",
    "    lt = [a,b]\n",
    "    for i in range(n):\n",
    "        hap = a+b\n",
    "        lt.append(hap)\n",
    "        a, b= b, hap\n",
    "    return lt\n",
    "    \n",
    "def f04(array, start, end):\n",
    "    if start >= end: return\n",
    "    pivot = start\n",
    "    left, right = start + 1, end\n",
    "    \n",
    "    while left <= right:\n",
    "        while left <= end and array[left] <= array[pivot]:\n",
    "            left += 1\n",
    "        while right > start and array[right] >= array[pivot]:\n",
    "            right -= 1\n",
    "        if left > right:\n",
    "            array[right], array[pivot] = array[pivot], array[right]\n",
    "        else:\n",
    "            array[right], array[left] = array[left], array[right]\n",
    "\n",
    "\n",
    "f04(array, start, right - 1)\n",
    "f04(array, right + 1, end)\n",
    "\n",
    "\n",
    "\n"
   ]
  },
  {
   "cell_type": "code",
   "execution_count": 1,
   "metadata": {},
   "outputs": [],
   "source": [
    "def f01(start, end):\n",
    "    sum =0\n",
    "    for i in range(start, end+1):\n",
    "        sum += i\n",
    "    return sum"
   ]
  },
  {
   "cell_type": "code",
   "execution_count": 12,
   "metadata": {},
   "outputs": [
    {
     "name": "stdout",
     "output_type": "stream",
     "text": [
      "[[1]\n",
      " [2]\n",
      " [3]\n",
      " [4]]\n",
      "[[1 2]\n",
      " [3 4]]\n",
      "[2 2 3 4]\n",
      "[[2]\n",
      " [2]\n",
      " [3]\n",
      " [4]]\n",
      "[[2 2]\n",
      " [3 4]]\n"
     ]
    }
   ],
   "source": [
    "import numpy as np\n",
    "x = np.array([1,2,3,4])\n",
    "y=x[:,np.newaxis]\n",
    "print(y)\n",
    "z=y.reshape(2,2)\n",
    "print(z)\n",
    "z[0] = 2\n",
    "print(x)\n",
    "print(y)\n",
    "print(z)"
   ]
  },
  {
   "cell_type": "code",
   "execution_count": 27,
   "metadata": {},
   "outputs": [
    {
     "name": "stdout",
     "output_type": "stream",
     "text": [
      "[[1 2 3]\n",
      " [4 5 6]]\n",
      "[[0 2 1]\n",
      " [1 0 2]]\n",
      "[3 6]\n",
      "[1 2]\n"
     ]
    }
   ],
   "source": [
    "x=np.array([[1,3,2],[5,4,6]])\n",
    "print(np.sort(x,axis=1))\n",
    "\n",
    "print(np.argsort(x,axis=1))\n",
    "\n",
    "print(np.max(x,axis=1))\n",
    "\n",
    "print(np.argmax(x,axis=1))"
   ]
  },
  {
   "cell_type": "code",
   "execution_count": 45,
   "metadata": {},
   "outputs": [
    {
     "name": "stdout",
     "output_type": "stream",
     "text": [
      "[1 2 3]\n"
     ]
    }
   ],
   "source": [
    "import numpy as np\n",
    "\n",
    "a = np.array([1,2,3])\n",
    "\n",
    "x =a[::2]\n",
    "\n",
    "print(x.base)\n",
    "\n",
    "a.dyty\n"
   ]
  },
  {
   "cell_type": "code",
   "execution_count": 4,
   "metadata": {},
   "outputs": [
    {
     "ename": "AttributeError",
     "evalue": "'AxesSubplot' object has no attribute 'transSubfigure'",
     "output_type": "error",
     "traceback": [
      "\u001b[1;31m---------------------------------------------------------------------------\u001b[0m",
      "\u001b[1;31mAttributeError\u001b[0m                            Traceback (most recent call last)",
      "\u001b[1;32md:\\VSCode\\python\\test2.ipynb 셀 7\u001b[0m in \u001b[0;36m<cell line: 64>\u001b[1;34m()\u001b[0m\n\u001b[0;32m     <a href='vscode-notebook-cell:/d%3A/VSCode/python/test2.ipynb#W6sZmlsZQ%3D%3D?line=61'>62</a>\u001b[0m fig \u001b[39m=\u001b[39m plt\u001b[39m.\u001b[39msubplot(\u001b[39m2\u001b[39m,\u001b[39m2\u001b[39m,\u001b[39m4\u001b[39m)\n\u001b[0;32m     <a href='vscode-notebook-cell:/d%3A/VSCode/python/test2.ipynb#W6sZmlsZQ%3D%3D?line=62'>63</a>\u001b[0m plt\u001b[39m.\u001b[39mtitle(\u001b[39m\"\u001b[39m\u001b[39m( 4 )\u001b[39m\u001b[39m\"\u001b[39m)\n\u001b[1;32m---> <a href='vscode-notebook-cell:/d%3A/VSCode/python/test2.ipynb#W6sZmlsZQ%3D%3D?line=63'>64</a>\u001b[0m ax \u001b[39m=\u001b[39m Axes3D(fig)\n\u001b[0;32m     <a href='vscode-notebook-cell:/d%3A/VSCode/python/test2.ipynb#W6sZmlsZQ%3D%3D?line=64'>65</a>\u001b[0m \u001b[39mdef\u001b[39;00m \u001b[39mf\u001b[39m(x,y):\n\u001b[0;32m     <a href='vscode-notebook-cell:/d%3A/VSCode/python/test2.ipynb#W6sZmlsZQ%3D%3D?line=65'>66</a>\u001b[0m     \u001b[39mreturn\u001b[39;00m np\u001b[39m.\u001b[39msin(x)\u001b[39m*\u001b[39mnp\u001b[39m.\u001b[39mexp\u001b[39m*\u001b[39m\u001b[39m*\u001b[39m\u001b[39m-\u001b[39m(x\u001b[39m*\u001b[39m\u001b[39m*\u001b[39m\u001b[39m2\u001b[39m\u001b[39m+\u001b[39my\u001b[39m*\u001b[39m\u001b[39m*\u001b[39m\u001b[39m2\u001b[39m)\n",
      "File \u001b[1;32mc:\\Users\\seo02\\anaconda3\\lib\\site-packages\\mpl_toolkits\\mplot3d\\axes3d.py:125\u001b[0m, in \u001b[0;36mAxes3D.__init__\u001b[1;34m(self, fig, rect, azim, elev, sharez, proj_type, box_aspect, computed_zorder, *args, **kwargs)\u001b[0m\n\u001b[0;32m    121\u001b[0m     \u001b[39mself\u001b[39m\u001b[39m.\u001b[39m_adjustable \u001b[39m=\u001b[39m \u001b[39m'\u001b[39m\u001b[39mdatalim\u001b[39m\u001b[39m'\u001b[39m\n\u001b[0;32m    123\u001b[0m auto_add_to_figure \u001b[39m=\u001b[39m kwargs\u001b[39m.\u001b[39mpop(\u001b[39m'\u001b[39m\u001b[39mauto_add_to_figure\u001b[39m\u001b[39m'\u001b[39m, \u001b[39mTrue\u001b[39;00m)\n\u001b[1;32m--> 125\u001b[0m \u001b[39msuper\u001b[39;49m()\u001b[39m.\u001b[39;49m\u001b[39m__init__\u001b[39;49m(\n\u001b[0;32m    126\u001b[0m     fig, rect, frameon\u001b[39m=\u001b[39;49m\u001b[39mTrue\u001b[39;49;00m, box_aspect\u001b[39m=\u001b[39;49mbox_aspect, \u001b[39m*\u001b[39;49margs, \u001b[39m*\u001b[39;49m\u001b[39m*\u001b[39;49mkwargs\n\u001b[0;32m    127\u001b[0m )\n\u001b[0;32m    128\u001b[0m \u001b[39m# Disable drawing of axes by base class\u001b[39;00m\n\u001b[0;32m    129\u001b[0m \u001b[39msuper\u001b[39m()\u001b[39m.\u001b[39mset_axis_off()\n",
      "File \u001b[1;32mc:\\Users\\seo02\\anaconda3\\lib\\site-packages\\matplotlib\\_api\\deprecation.py:456\u001b[0m, in \u001b[0;36mmake_keyword_only.<locals>.wrapper\u001b[1;34m(*args, **kwargs)\u001b[0m\n\u001b[0;32m    450\u001b[0m \u001b[39mif\u001b[39;00m \u001b[39mlen\u001b[39m(args) \u001b[39m>\u001b[39m name_idx:\n\u001b[0;32m    451\u001b[0m     warn_deprecated(\n\u001b[0;32m    452\u001b[0m         since, message\u001b[39m=\u001b[39m\u001b[39m\"\u001b[39m\u001b[39mPassing the \u001b[39m\u001b[39m%(name)s\u001b[39;00m\u001b[39m \u001b[39m\u001b[39m%(obj_type)s\u001b[39;00m\u001b[39m \u001b[39m\u001b[39m\"\u001b[39m\n\u001b[0;32m    453\u001b[0m         \u001b[39m\"\u001b[39m\u001b[39mpositionally is deprecated since Matplotlib \u001b[39m\u001b[39m%(since)s\u001b[39;00m\u001b[39m; the \u001b[39m\u001b[39m\"\u001b[39m\n\u001b[0;32m    454\u001b[0m         \u001b[39m\"\u001b[39m\u001b[39mparameter will become keyword-only \u001b[39m\u001b[39m%(removal)s\u001b[39;00m\u001b[39m.\u001b[39m\u001b[39m\"\u001b[39m,\n\u001b[0;32m    455\u001b[0m         name\u001b[39m=\u001b[39mname, obj_type\u001b[39m=\u001b[39m\u001b[39mf\u001b[39m\u001b[39m\"\u001b[39m\u001b[39mparameter of \u001b[39m\u001b[39m{\u001b[39;00mfunc\u001b[39m.\u001b[39m\u001b[39m__name__\u001b[39m\u001b[39m}\u001b[39;00m\u001b[39m()\u001b[39m\u001b[39m\"\u001b[39m)\n\u001b[1;32m--> 456\u001b[0m \u001b[39mreturn\u001b[39;00m func(\u001b[39m*\u001b[39;49margs, \u001b[39m*\u001b[39;49m\u001b[39m*\u001b[39;49mkwargs)\n",
      "File \u001b[1;32mc:\\Users\\seo02\\anaconda3\\lib\\site-packages\\matplotlib\\axes\\_base.py:615\u001b[0m, in \u001b[0;36m_AxesBase.__init__\u001b[1;34m(self, fig, rect, facecolor, frameon, sharex, sharey, label, xscale, yscale, box_aspect, **kwargs)\u001b[0m\n\u001b[0;32m    613\u001b[0m \u001b[39mself\u001b[39m\u001b[39m.\u001b[39m_sharey \u001b[39m=\u001b[39m sharey\n\u001b[0;32m    614\u001b[0m \u001b[39mself\u001b[39m\u001b[39m.\u001b[39mset_label(label)\n\u001b[1;32m--> 615\u001b[0m \u001b[39mself\u001b[39;49m\u001b[39m.\u001b[39;49mset_figure(fig)\n\u001b[0;32m    616\u001b[0m \u001b[39mself\u001b[39m\u001b[39m.\u001b[39mset_box_aspect(box_aspect)\n\u001b[0;32m    617\u001b[0m \u001b[39mself\u001b[39m\u001b[39m.\u001b[39m_axes_locator \u001b[39m=\u001b[39m \u001b[39mNone\u001b[39;00m  \u001b[39m# Optionally set via update(kwargs).\u001b[39;00m\n",
      "File \u001b[1;32mc:\\Users\\seo02\\anaconda3\\lib\\site-packages\\matplotlib\\axes\\_base.py:756\u001b[0m, in \u001b[0;36m_AxesBase.set_figure\u001b[1;34m(self, fig)\u001b[0m\n\u001b[0;32m    751\u001b[0m \u001b[39mdef\u001b[39;00m \u001b[39mset_figure\u001b[39m(\u001b[39mself\u001b[39m, fig):\n\u001b[0;32m    752\u001b[0m     \u001b[39m# docstring inherited\u001b[39;00m\n\u001b[0;32m    753\u001b[0m     \u001b[39msuper\u001b[39m()\u001b[39m.\u001b[39mset_figure(fig)\n\u001b[0;32m    755\u001b[0m     \u001b[39mself\u001b[39m\u001b[39m.\u001b[39mbbox \u001b[39m=\u001b[39m mtransforms\u001b[39m.\u001b[39mTransformedBbox(\u001b[39mself\u001b[39m\u001b[39m.\u001b[39m_position,\n\u001b[1;32m--> 756\u001b[0m                                             fig\u001b[39m.\u001b[39;49mtransSubfigure)\n\u001b[0;32m    757\u001b[0m     \u001b[39m# these will be updated later as data is added\u001b[39;00m\n\u001b[0;32m    758\u001b[0m     \u001b[39mself\u001b[39m\u001b[39m.\u001b[39mdataLim \u001b[39m=\u001b[39m mtransforms\u001b[39m.\u001b[39mBbox\u001b[39m.\u001b[39mnull()\n",
      "\u001b[1;31mAttributeError\u001b[0m: 'AxesSubplot' object has no attribute 'transSubfigure'"
     ]
    }
   ],
   "source": [
    "from calendar import c\n",
    "from re import X\n",
    "import numpy as np\n",
    "from matplotlib import pyplot as plt\n",
    "import pandas as pd\n",
    "from pandas.core.arrays import StringArray\n",
    "import seaborn as sns\n",
    "from mpl_toolkits.mplot3d import Axes3D\n",
    "import matplotlib.colors as mcols\n",
    "import random\n",
    "%matplotlib qt\n",
    "\n",
    "plt.figure(figsize=(8, 8), dpi=80)\n",
    "#--------------------------------\n",
    "q1 =plt.subplot(2,2,1)\n",
    "plt.title(\"( 3 )\")\n",
    "x = np.linspace(-1,2,100)\n",
    "y1 =x*x\n",
    "y2 =x\n",
    "q1.plot(x, y1)\n",
    "q1.plot(x, y2)\n",
    "q1.fill_between(x,y1,y2, where=(x>0)&(x<1), alpha=0.5)\n",
    "q1.grid(True)\n",
    "q1.set_xticks([-1,0,1,2])\n",
    "\n",
    "\n",
    "#-------------------------------------------\n",
    "\n",
    "q2=plt.subplot(2,2,2)\n",
    "plt.title(\"( 2 )\")\n",
    "x2 = np.linspace(2,6,100)\n",
    "q2.set_yticks([6,8,10,12,14,16,18,20,22])\n",
    "q2.set_xticks([3,4,5])\n",
    "tcol = list(mcols.CSS4_COLORS)\n",
    "count=1\n",
    "data=np.genfromtxt(\"heightWeight.txt\",skip_header=1)\n",
    "\n",
    "for d in data:\n",
    "    plt.scatter(d[0],d[1],color=tcol[len(tcol)-count])\n",
    "    count+=1\n",
    "\n",
    "#-------------------------------------------------------------\n",
    "\n",
    "def f03(x,y):\n",
    "    return (1 - x/2 + x**5 + y**3)*np.exp(-(x**2 + y**2))\n",
    "\n",
    "q3=plt.subplot(2,2,3)\n",
    "plt.title(\"( 3 )\")\n",
    "\n",
    "x=np.linspace(-3,3,256)\n",
    "y=np.linspace(-3,3,256)\n",
    "X,Y=np.meshgrid(x,y)\n",
    "plt.imshow(f03(X, Y), extent=[0,250,0,250], cmap=plt.cm.jet)\n",
    "plt.gca().invert_yaxis()\n",
    "c = plt.contour(f03(X,Y),levels=15, linewidths=0.5, colors='k')\n",
    "#cntr=plt.contourf(X,Y,f03(X,Y),levels=15, cmap=plt.cm.jet)\n",
    "plt.clabel(c,inline=1,fontsize=10)\n",
    "\n",
    "q3.set_xticks([0,50,100,150,200,250])\n",
    "q3.set_yticks([250,200,150,100,50,0])\n",
    "#-------------------------------------------\n",
    "fig = plt.subplot(2,2,4)\n",
    "plt.title(\"( 4 )\")\n",
    "ax = Axes3D(fig)\n",
    "def f(x,y):\n",
    "    return np.sin(x)*np.exp**-(x**2+y**2)\n",
    "x = np.linspace(-3,3,100)\n",
    "y = np.linspace(-3,3,100)\n",
    "X, Y =np.meshgrid(x, y)\n",
    "\n",
    "ax.set_zlim(-0.4,0.4)\n",
    "ax.set_xticks([-2,0,2])\n",
    "ax.set_yticks([-2,0,2])\n",
    "ax.set_zticks([-0.4,-0.2,0,0.2,0.4])\n",
    "\n",
    "\n",
    "ax.plot_surface(x,y,f(x,y), cmap='raindow', alpha=.5)\n",
    "ax.contourf(x,y,f(x,y))\n",
    "plt.show()\n"
   ]
  },
  {
   "cell_type": "code",
   "execution_count": 5,
   "metadata": {},
   "outputs": [],
   "source": [
    "import numpy as np\n",
    "import matplotlib.pyplot as plt\n",
    "\n",
    "fig = plt.figure(figsize=(8,8),dpi=80) # figure size는 80dpi, 8x8 inch로 설정\n",
    "\n",
    "plt.subplot(2,2,1)\n",
    "plt.title(\"( 1 )\")\n",
    "plt.xlim(-1*1.1,2*1.1)\n",
    "plt.ylim(-1*1.1,4*1.1)\n",
    "plt.grid()\n",
    "\n",
    "x=np.linspace(-1,2,1000)\n",
    "plt.plot(x,x**2)\n",
    "plt.plot(x,x)\n",
    "plt.fill_between(x,x,x**2,where =(x > x**2),alpha=.5)\n",
    "\n",
    "\n",
    "q2=plt.subplot(2,2,2)\n",
    "plt.title(\"( 2 )\")\n",
    "x2 = np.linspace(2,6,100)\n",
    "q2.set_yticks([6,8,10,12,14,16,18,20,22])\n",
    "q2.set_xticks([3,4,5])\n",
    "tcol = list(mcols.CSS4_COLORS)\n",
    "count=1\n",
    "data=np.genfromtxt(\"heightWeight.txt\",skip_header=1)\n",
    "\n",
    "for d in data:\n",
    "    plt.scatter(d[0],d[1],color=tcol[len(tcol)-count])\n",
    "    count+=1\n",
    "\n",
    "def f03(x,y):\n",
    "    return (1 - x/2 + x**5 + y**3)*np.exp(-(x**2 + y**2))\n",
    "\n",
    "q3=plt.subplot(2,2,3)\n",
    "plt.title(\"( 3 )\")\n",
    "\n",
    "x=np.linspace(-3,3,256)\n",
    "y=np.linspace(-3,3,256)\n",
    "X,Y=np.meshgrid(x,y)\n",
    "plt.imshow(f03(X, Y), extent=[0,250,0,250], cmap=plt.cm.jet)\n",
    "plt.gca().invert_yaxis()\n",
    "c = plt.contour(f03(X,Y),levels=15, linewidths=0.5, colors='k')\n",
    "#cntr=plt.contourf(X,Y,f03(X,Y),levels=15, cmap=plt.cm.jet)\n",
    "plt.clabel(c,inline=1,fontsize=10)\n",
    "\n",
    "q3.set_xticks([0,50,100,150,200,250])\n",
    "q3.set_yticks([250,200,150,100,50,0])\n",
    "#------------------------------------------------------------------\n",
    "from mpl_toolkits.mplot3d import Axes3D\n",
    "ax = fig.add_subplot(2, 2, 4, projection='3d')\n",
    "ax.set_title(\"( 4 )\")\n",
    "def f04(x,y):\n",
    "    return np.sin(x)*np.exp(-(x**2 + y**2))\n",
    "\n",
    "X = np.arange(-3, 3, 0.12)\n",
    "Y = np.arange(-3, 3, 0.12)\n",
    "X, Y = np.meshgrid(X, Y)\n",
    "Z = f04(X,Y)\n",
    "\n",
    "ax.plot_surface(X, Y, Z, rstride=1, cstride=1, cmap='rainbow', alpha=0.5)\n",
    "ax.contourf(X, Y, Z, zdir='z', offset=-2, cmap='rainbow',alpha=0.5)\n",
    "ax.set_zlim(-0.4, 0.4)\n",
    "ax.set_xticks([-2,0,2])\n",
    "ax.set_yticks([-2,0,2])\n",
    "ax.set_zticks([-0.4,-0.2,0,0.2,0.4])\n",
    "plt.show()"
   ]
  },
  {
   "cell_type": "markdown",
   "metadata": {},
   "source": []
  }
 ],
 "metadata": {
  "kernelspec": {
   "display_name": "Python 3.8.8 ('base')",
   "language": "python",
   "name": "python3"
  },
  "language_info": {
   "codemirror_mode": {
    "name": "ipython",
    "version": 3
   },
   "file_extension": ".py",
   "mimetype": "text/x-python",
   "name": "python",
   "nbconvert_exporter": "python",
   "pygments_lexer": "ipython3",
   "version": "3.8.8"
  },
  "orig_nbformat": 4,
  "vscode": {
   "interpreter": {
    "hash": "5fff6dc56112f11e31e59051982e90185311df7b0c2c691e623a902eea597044"
   }
  }
 },
 "nbformat": 4,
 "nbformat_minor": 2
}
