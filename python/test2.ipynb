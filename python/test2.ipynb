{
 "cells": [
  {
   "cell_type": "code",
   "execution_count": 1,
   "metadata": {},
   "outputs": [
    {
     "name": "stdout",
     "output_type": "stream",
     "text": [
      "Hellow world!\n"
     ]
    }
   ],
   "source": [
    "print(\"Hellow world!\")"
   ]
  },
  {
   "cell_type": "code",
   "execution_count": null,
   "metadata": {},
   "outputs": [],
   "source": [
    "import numpy as np\n",
    "def f01(start, end):\n",
    "    sum =0\n",
    "    for i in range(start, end+1):\n",
    "        sum += i\n",
    "    return sum\n",
    "\n",
    "def f02(lt):\n",
    "    M = lt[0]\n",
    "    M = max(lt)\n",
    "    for i in range(len(lt)):\n",
    "        lt[i] = round(lt[i] / M, 2)\n",
    "    return lt\n",
    "\n",
    "def f03(n):\n",
    "    a, b = 1,1\n",
    "    lt = [a,b]\n",
    "    for i in range(n):\n",
    "        hap = a+b\n",
    "        lt.append(hap)\n",
    "        a, b= b, hap\n",
    "    return lt\n",
    "    \n",
    "def f04(array, start, end):\n",
    "    if start >= end: return\n",
    "    pivot = start\n",
    "    left, right = start + 1, end\n",
    "    \n",
    "    while left <= right:\n",
    "        while left <= end and array[left] <= array[pivot]:\n",
    "            left += 1\n",
    "        while right > start and array[right] >= array[pivot]:\n",
    "            right -= 1\n",
    "        if left > right:\n",
    "            array[right], array[pivot] = array[pivot], array[right]\n",
    "        else:\n",
    "            array[right], array[left] = array[left], array[right]\n",
    "\n",
    "\n",
    "f04(array, start, right - 1)\n",
    "f04(array, right + 1, end)\n",
    "\n",
    "\n",
    "\n"
   ]
  },
  {
   "cell_type": "code",
   "execution_count": null,
   "metadata": {},
   "outputs": [],
   "source": [
    "def f01(start, end):\n",
    "    sum =0\n",
    "    for i in range(start, end+1):\n",
    "        sum += i\n",
    "    return sum"
   ]
  }
 ],
 "metadata": {
  "kernelspec": {
   "display_name": "Python 3.9.7 64-bit",
   "language": "python",
   "name": "python3"
  },
  "language_info": {
   "codemirror_mode": {
    "name": "ipython",
    "version": 3
   },
   "file_extension": ".py",
   "mimetype": "text/x-python",
   "name": "python",
   "nbconvert_exporter": "python",
   "pygments_lexer": "ipython3",
   "version": "3.9.7"
  },
  "orig_nbformat": 4,
  "vscode": {
   "interpreter": {
    "hash": "9801b2a827a76f5793a8070ff2f4ddde78880cfa3a50be3e9ab942dae1ab5ef7"
   }
  }
 },
 "nbformat": 4,
 "nbformat_minor": 2
}
