{
 "cells": [
  {
   "cell_type": "code",
   "execution_count": 1,
   "metadata": {},
   "outputs": [
    {
     "name": "stdout",
     "output_type": "stream",
     "text": [
      "Hellow world!\n"
     ]
    }
   ],
   "source": [
    "print(\"Hellow world!\")"
   ]
  },
  {
   "cell_type": "code",
   "execution_count": 2,
   "metadata": {},
   "outputs": [
    {
     "ename": "NameError",
     "evalue": "name 'array' is not defined",
     "output_type": "error",
     "traceback": [
      "\u001b[1;31m---------------------------------------------------------------------------\u001b[0m",
      "\u001b[1;31mNameError\u001b[0m                                 Traceback (most recent call last)",
      "Cell \u001b[1;32mIn [2], line 40\u001b[0m\n\u001b[0;32m     36\u001b[0m         \u001b[38;5;28;01melse\u001b[39;00m:\n\u001b[0;32m     37\u001b[0m             array[right], array[left] \u001b[38;5;241m=\u001b[39m array[left], array[right]\n\u001b[1;32m---> 40\u001b[0m f04(\u001b[43marray\u001b[49m, start, right \u001b[38;5;241m-\u001b[39m \u001b[38;5;241m1\u001b[39m)\n\u001b[0;32m     41\u001b[0m f04(array, right \u001b[38;5;241m+\u001b[39m \u001b[38;5;241m1\u001b[39m, end)\n",
      "\u001b[1;31mNameError\u001b[0m: name 'array' is not defined"
     ]
    }
   ],
   "source": [
    "import numpy as np\n",
    "def f01(start, end):\n",
    "    sum =0\n",
    "    for i in range(start, end+1):\n",
    "        sum += i\n",
    "    return sum\n",
    "\n",
    "def f02(lt):\n",
    "    M = lt[0]\n",
    "    M = max(lt)\n",
    "    for i in range(len(lt)):\n",
    "        lt[i] = round(lt[i] / M, 2)\n",
    "    return lt\n",
    "\n",
    "def f03(n):\n",
    "    a, b = 1,1\n",
    "    lt = [a,b]\n",
    "    for i in range(n):\n",
    "        hap = a+b\n",
    "        lt.append(hap)\n",
    "        a, b= b, hap\n",
    "    return lt\n",
    "    \n",
    "def f04(array, start, end):\n",
    "    if start >= end: return\n",
    "    pivot = start\n",
    "    left, right = start + 1, end\n",
    "    \n",
    "    while left <= right:\n",
    "        while left <= end and array[left] <= array[pivot]:\n",
    "            left += 1\n",
    "        while right > start and array[right] >= array[pivot]:\n",
    "            right -= 1\n",
    "        if left > right:\n",
    "            array[right], array[pivot] = array[pivot], array[right]\n",
    "        else:\n",
    "            array[right], array[left] = array[left], array[right]\n",
    "\n",
    "\n",
    "f04(array, start, right - 1)\n",
    "f04(array, right + 1, end)\n",
    "\n",
    "\n",
    "\n"
   ]
  },
  {
   "cell_type": "code",
   "execution_count": 1,
   "metadata": {},
   "outputs": [],
   "source": [
    "def f01(start, end):\n",
    "    sum =0\n",
    "    for i in range(start, end+1):\n",
    "        sum += i\n",
    "    return sum"
   ]
  },
  {
   "cell_type": "code",
   "execution_count": 12,
   "metadata": {},
   "outputs": [
    {
     "name": "stdout",
     "output_type": "stream",
     "text": [
      "[[1]\n",
      " [2]\n",
      " [3]\n",
      " [4]]\n",
      "[[1 2]\n",
      " [3 4]]\n",
      "[2 2 3 4]\n",
      "[[2]\n",
      " [2]\n",
      " [3]\n",
      " [4]]\n",
      "[[2 2]\n",
      " [3 4]]\n"
     ]
    }
   ],
   "source": [
    "import numpy as np\n",
    "x = np.array([1,2,3,4])\n",
    "y=x[:,np.newaxis]\n",
    "print(y)\n",
    "z=y.reshape(2,2)\n",
    "print(z)\n",
    "z[0] = 2\n",
    "print(x)\n",
    "print(y)\n",
    "print(z)"
   ]
  },
  {
   "cell_type": "code",
   "execution_count": 27,
   "metadata": {},
   "outputs": [
    {
     "name": "stdout",
     "output_type": "stream",
     "text": [
      "[[1 2 3]\n",
      " [4 5 6]]\n",
      "[[0 2 1]\n",
      " [1 0 2]]\n",
      "[3 6]\n",
      "[1 2]\n"
     ]
    }
   ],
   "source": [
    "x=np.array([[1,3,2],[5,4,6]])\n",
    "print(np.sort(x,axis=1))\n",
    "\n",
    "print(np.argsort(x,axis=1))\n",
    "\n",
    "print(np.max(x,axis=1))\n",
    "\n",
    "print(np.argmax(x,axis=1))"
   ]
  },
  {
   "cell_type": "code",
   "execution_count": 45,
   "metadata": {},
   "outputs": [
    {
     "name": "stdout",
     "output_type": "stream",
     "text": [
      "[1 2 3]\n"
     ]
    }
   ],
   "source": [
    "import numpy as np\n",
    "\n",
    "a = np.array([1,2,3])\n",
    "\n",
    "x =a[::2]\n",
    "\n",
    "print(x.base)\n",
    "\n",
    "a.dyty\n"
   ]
  },
  {
   "cell_type": "markdown",
   "metadata": {},
   "source": []
  }
 ],
 "metadata": {
  "kernelspec": {
   "display_name": "Python 3.9.7 64-bit",
   "language": "python",
   "name": "python3"
  },
  "language_info": {
   "codemirror_mode": {
    "name": "ipython",
    "version": 3
   },
   "file_extension": ".py",
   "mimetype": "text/x-python",
   "name": "python",
   "nbconvert_exporter": "python",
   "pygments_lexer": "ipython3",
   "version": "3.9.7"
  },
  "orig_nbformat": 4,
  "vscode": {
   "interpreter": {
    "hash": "9801b2a827a76f5793a8070ff2f4ddde78880cfa3a50be3e9ab942dae1ab5ef7"
   }
  }
 },
 "nbformat": 4,
 "nbformat_minor": 2
}
