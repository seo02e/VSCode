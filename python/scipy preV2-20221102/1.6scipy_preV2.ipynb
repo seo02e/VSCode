{
 "cells": [
  {
   "cell_type": "markdown",
   "metadata": {},
   "source": [
    "## Scipy preliminary\n",
    "- 이 강의는 scipy lecture note의 scipy 부분을 강의하기 전에 필요하다.\n",
    "- 기본적인 calculus를 다룬다.\n",
    "- https://pythonnumericalmethods.berkeley.edu/notebooks/Index.html 를 기초로 만들었다.\n",
    "- 다루는 theme은 root finding, differenciation, integration 이다.\n",
    "- 목적\n",
    "    - scipy lecture note의 scipy는 여러분야의 introduction 이다.\n",
    "    - 그러므로 basic scipy에 대한 이해가 필요하다."
   ]
  },
  {
   "cell_type": "markdown",
   "metadata": {},
   "source": [
    "---\n",
    "### 근 찾기\n",
    "- 근을 찾는 영역을 잘게 나누어 함수값이 0에 가까운 것을 찾는다 (resolution이 늘어날 수록 array가 커진다.)\n",
    "- 기본적인 방법들\n",
    "    - bisection method\n",
    "    - Newton-Raphson method\n",
    "    \n",
    "##### **Bisection Method**  \n",
    "|그림 1. 중간값의 정리|그림 2. Bisection Method|\n",
    "|:--:|:--:|\n",
    "|<img src='intermediate-value-theorem.png' width='300px'>|<img src='Bisection-Method.png' width='300px'> |\n",
    " \n",
    "- 중간값의 정리: \n",
    "    - $f(x)$가 closed interval $[a,b]$에서 연속이고 \n",
    "    - $sign\\left( f(a)\\right)\\ne sign\\left( f(a)\\right)$ 이면 \n",
    "    - $f(c)=0$을 만족하는 $c$가 open interval $(a,b)$안에 존재한다  \n",
    "\n",
    "- Bisection Method\n",
    "    - $a,b$의 중간값을 $m$이라고 하면\n",
    "    - $f(m)$이 tolerance보다 작으면 $m$이 해이다.\n",
    "    - 그렇지 않으면 $f(a), f(b)$ 중에서 $f(m)$ 부호가 다른 것의 $x$ 값과 $m$을 사용하여 이 과정을 반복한다."
   ]
  },
  {
   "cell_type": "code",
   "execution_count": null,
   "metadata": {},
   "outputs": [],
   "source": [
    "import numpy as np\n",
    "\n",
    "def my_bisection(f, a, b, tol): \n",
    "    # approximates a root, R, of f bounded \n",
    "    # by a and b to within tolerance \n",
    "    # | f(m) | < tol with m the midpoint \n",
    "    # between a and b Recursive implementation\n",
    "    \n",
    "    # check if a and b bound a root\n",
    "    if np.sign(f(a)) == np.sign(f(b)):\n",
    "        print(\"interval [a,b] 에 근이 있는 지 알 수 없다.\")\n",
    "        return False\n",
    "        \n",
    "    # get midpoint\n",
    "    m = (a + b)/2\n",
    "    \n",
    "    if np.abs(f(m)) < tol:\n",
    "        # stopping condition, report m as root\n",
    "        return m\n",
    "    elif np.sign(f(a)) == np.sign(f(m)):\n",
    "        # case where m is an improvement on a. \n",
    "        # Make recursive call with a = m\n",
    "        return my_bisection(f, m, b, tol)\n",
    "    elif np.sign(f(b)) == np.sign(f(m)):\n",
    "        # case where m is an improvement on b. \n",
    "        # Make recursive call with b = m\n",
    "        return my_bisection(f, a, m, tol)"
   ]
  },
  {
   "cell_type": "code",
   "execution_count": null,
   "metadata": {},
   "outputs": [
    {
     "name": "stdout",
     "output_type": "stream",
     "text": [
      "r1 = 1.4375\n",
      "r01 = 1.4140625\n",
      "f(r1) = 0.06640625\n",
      "f(r01) = -0.00042724609375\n"
     ]
    }
   ],
   "source": [
    "f = lambda x: x**2 - 2\n",
    "\n",
    "r1 = my_bisection(f, 0, 2, 0.1)\n",
    "print(\"r1 =\", r1)\n",
    "r01 = my_bisection(f, 0, 2, 0.01)\n",
    "print(\"r01 =\", r01)\n",
    "\n",
    "print(\"f(r1) =\", f(r1))\n",
    "print(\"f(r01) =\", f(r01))"
   ]
  },
  {
   "cell_type": "markdown",
   "metadata": {},
   "source": [
    "#### **Newton-Raphson method**\n",
    "\n",
    "<img src='Newton-step.png' width='300px'>\n",
    "\n",
    "- $x_0$가 근 $x_r$의 추측값이라고 하자\n",
    "- $x_0$가 $x_r$하고 매우 가까운 추측값이라고 하면 $f(x)$는 $x_0$에서 $x_r$ 까지 거의 직선으로 움직일 것이다.\n",
    "- 즉 $f'(x_0)$는 $x_0$하고 가까운 임의의 $x$를 이용하여 다음과 같이 근사할 수 있다.\n",
    "$$ f'(x_0) \\approx \\frac{f(x)-f(x_0)}{x-x_0}$$ \n",
    "- 그러므로 $f(x)=0$ 을 만족시키는 $x_0$ 근처의 $x$ 값을 $x_1$ 이라고 하면 $f(x_1)=0$ 이므로\n",
    "- $ x_1=x_0-\\frac{f(x_0)}{f'(x_0)}$ 로 구할 수 있고,\n",
    "- 이 $x_1$은 근 $x_r$에 보다 가까울 것이다. \n",
    "- 그러므로 다음과 같은 **Newton step**은 점점 근 $x_r$로 접근할 것이다.\n",
    "$$x_i = x_{i-1} - \\frac{f(x_{i-1})}{f'(x_{i-1})}$$\n",
    "- **Newton-Raphson** method 는 상기 **Newton step** 을 error가 허용치 (tolerance) 이내에 들어올 때까지 반복하는 것이다."
   ]
  },
  {
   "cell_type": "code",
   "execution_count": null,
   "metadata": {},
   "outputs": [
    {
     "name": "stdout",
     "output_type": "stream",
     "text": [
      "newton_raphson = 1.4142857142857144\n",
      "sqrt(2) = 1.4142135623730951\n"
     ]
    }
   ],
   "source": [
    "import numpy as np\n",
    "\n",
    "f = lambda x: x**2 - 2\n",
    "f_prime = lambda x: 2*x\n",
    "\n",
    "x0=1.4\n",
    "newton_raphson = x0 - (f(x0))/(f_prime(x0))\n",
    "\n",
    "print(\"newton_raphson =\", newton_raphson)\n",
    "print(\"sqrt(2) =\", np.sqrt(2))"
   ]
  },
  {
   "cell_type": "code",
   "execution_count": null,
   "metadata": {},
   "outputs": [],
   "source": [
    "def my_newton(f, df, x0, tol):\n",
    "    # output is an estimation of the root of f \n",
    "    # using the Newton Raphson method\n",
    "    # recursive implementation\n",
    "    if abs(f(x0)) < tol:\n",
    "        return x0\n",
    "    else:\n",
    "        return my_newton(f, df, x0 - f(x0)/df(x0), tol)"
   ]
  },
  {
   "cell_type": "code",
   "execution_count": null,
   "metadata": {},
   "outputs": [
    {
     "name": "stdout",
     "output_type": "stream",
     "text": [
      "estimate = 1.4142135623746899\n",
      "sqrt(2) = 1.4142135623730951\n"
     ]
    }
   ],
   "source": [
    "estimate = my_newton(f, f_prime, 1.5, 1e-6)\n",
    "print(\"estimate =\", estimate)\n",
    "print(\"sqrt(2) =\", np.sqrt(2))"
   ]
  },
  {
   "cell_type": "markdown",
   "metadata": {},
   "source": [
    "#### **Scipy Root Finding**\n",
    "- scipy.optimize.fsolve\n",
    "- scipy.optimize.root"
   ]
  },
  {
   "cell_type": "code",
   "execution_count": null,
   "metadata": {},
   "outputs": [],
   "source": [
    "from scipy.optimize import fsolve, root"
   ]
  },
  {
   "cell_type": "code",
   "execution_count": null,
   "metadata": {},
   "outputs": [
    {
     "name": "stdout",
     "output_type": "stream",
     "text": [
      "---fsolve:\n",
      " [  1. 100.]\n",
      "---root:\n",
      "     fjac: array([[-1.00000000e+00, -2.47477349e-07],\n",
      "       [ 2.47477349e-07, -1.00000000e+00]])\n",
      "     fun: array([-2.95294456e-09,  0.00000000e+00])\n",
      " message: 'The solution converged.'\n",
      "    nfev: 13\n",
      "     qtf: array([ 1.90468530e-05, -5.84700398e-07])\n",
      "       r: array([ 1.98030992e+02, -4.64255706e-01, -9.99926911e+03])\n",
      "  status: 1\n",
      " success: True\n",
      "       x: array([  1., 100.])\n"
     ]
    }
   ],
   "source": [
    "f = lambda x: x**3-100*x**2-x+100\n",
    "\n",
    "res1 = fsolve(f, [2, 80])\n",
    "res2 = root(f,[2,80])\n",
    "print('---fsolve:\\n',res1)\n",
    "print('---root:\\n',res2)"
   ]
  },
  {
   "cell_type": "markdown",
   "metadata": {},
   "source": [
    "---\n",
    "### 미분\n",
    "\n",
    "- $x=a$ 에서의 $f(x)$의 미분의 정의\n",
    ">$f'(a)=\\underset{x \\to a}{lim} \\frac{f(x) - f(a)}{x - a}$\n",
    "- 이산구조에서의 미분 (Finite difference)\n",
    "> - forward difference\n",
    ">>$f'(x_j)=\\frac{f(x_{j+1})−f(x_j)}{x_{j+1}−x_j}$\n",
    "> - backward difference\n",
    ">>$f'(x_j)=\\frac{f(x_j)−f(x_{j-1})}{x_j−x_{j-1}}$\n",
    "> - central difference\n",
    ">>$f'(x_j)=\\frac{f(x_{j+1})−f(x_{j-1})}{x_{j+1}−x_{j-1}}$\n",
    "  \n",
    "<img src='Finite-difference.png' width='800px'>\n"
   ]
  },
  {
   "cell_type": "markdown",
   "metadata": {},
   "source": [
    "---\n",
    "### 적분\n",
    "<img src='illustration_integral.png' width='500px'><br>\n",
    "\n",
    "- Riemann's integral\n",
    "- $x_{i+1}-x_i=h$ 이라면\n",
    "\n",
    "> 왼쪽 end point\n",
    ">> $$\\int_a^b f(x)dx \\approx \\sum_{i=0}^{n-1} hf(x_i)$$ \n",
    ">오른 쪽 end point\n",
    ">> $$\\int_a^b f(x)dx \\approx \\sum_{i=1}^{n} hf(x_i)$$ "
   ]
  },
  {
   "cell_type": "code",
   "execution_count": null,
   "metadata": {},
   "outputs": [
    {
     "data": {
      "image/png": "[encoded data removed]",
      "text/plain": [
       "<Figure size 432x288 with 1 Axes>"
      ]
     },
     "metadata": {
      "needs_background": "light"
     },
     "output_type": "display_data"
    },
    {
     "data": {
      "image/png": "[encoded data removed]",
      "text/plain": [
       "<Figure size 432x288 with 1 Axes>"
      ]
     },
     "metadata": {
      "needs_background": "light"
     },
     "output_type": "display_data"
    }
   ],
   "source": [
    "import numpy as np\n",
    "import matplotlib.pyplot as plt\n",
    "nbins = 10 #bin의 개수\n",
    "x=np.linspace(0,1,nbins+1)\n",
    "h=x[1]-x[0] #bin의 폭\n",
    "\n",
    "f=x**2\n",
    "# lower bound\n",
    "plt.plot(x,f)\n",
    "for i in range(nbins):\n",
    "    plt.plot([x[i],x[i+1]],[f[i],f[i]],'r',alpha=0.3)\n",
    "    plt.fill_between([x[i],x[i+1]],[f[i],f[i]],color='r',alpha=0.3)\n",
    "plt.grid()\n",
    "plt.figure()\n",
    "# upper bound\n",
    "plt.plot(x,f)\n",
    "for i in range(nbins):\n",
    "    plt.plot([x[i],x[i+1]],[f[i+1],f[i+1]],'b',alpha=0.3)\n",
    "    plt.fill_between([x[i],x[i+1]],[f[i+1],f[i+1]],color='b',alpha=0.3)\n",
    "plt.grid()"
   ]
  },
  {
   "cell_type": "code",
   "execution_count": null,
   "metadata": {},
   "outputs": [
    {
     "data": {
      "text/plain": [
       "[<matplotlib.lines.Line2D at 0x14cd21908b0>]"
      ]
     },
     "execution_count": 5,
     "metadata": {},
     "output_type": "execute_result"
    },
    {
     "data": {
      "image/png": "[encoded data removed]",
      "text/plain": [
       "<Figure size 432x288 with 1 Axes>"
      ]
     },
     "metadata": {
      "needs_background": "light"
     },
     "output_type": "display_data"
    }
   ],
   "source": [
    "# true integration value x^2 -> x^3/3 (0,1) -> 1/3\n",
    "from logging import StringTemplateStyle\n",
    "\n",
    "\n",
    "nbins = 1\n",
    "iterations = 10\n",
    "step_size = [] \n",
    "lsum = [] \n",
    "usum = []\n",
    "for iter in range(iterations):\n",
    "    nbins *= 2\n",
    "    x = np.linspace(0,1,nbins+1)\n",
    "    y = x**2\n",
    "    width=x[1]-x[0]\n",
    "    step_size.append(width)\n",
    "    lsum.append(width*np.sum(y[:-1]))\n",
    "    usum.append(width*np.sum(y[1:]))\n",
    "plt.loglog(step_size,lsum,'r')\n",
    "plt.loglog(step_size,usum,'b')\n",
    "plt.loglog(step_size,1/3*np.ones(len(step_size)))\n",
    "    "
   ]
  },
  {
   "cell_type": "markdown",
   "metadata": {},
   "source": [
    "---\n",
    "#### 실습\n",
    "$$\\int_{0}^{\\frac{\\pi}{2}} sin \\theta d\\theta = \\frac{1}{2}$$\n",
    "\n",
    "1. $0\\le x\\le \\frac{\\pi}{2}$를 5등분했을 때 upper bound와 lower bound를 그려라  \n",
    "2. Riemann integral의 upper bound와 lower bound의 $h$ 에 따른 변화를 관찰하여라"
   ]
  }
 ],
 "metadata": {
  "kernelspec": {
   "display_name": "Python 3.9.7 64-bit",
   "language": "python",
   "name": "python3"
  },
  "language_info": {
   "codemirror_mode": {
    "name": "ipython",
    "version": 3
   },
   "file_extension": ".py",
   "mimetype": "text/x-python",
   "name": "python",
   "nbconvert_exporter": "python",
   "pygments_lexer": "ipython3",
   "version": "3.9.7"
  },
  "orig_nbformat": 4,
  "vscode": {
   "interpreter": {
    "hash": "9801b2a827a76f5793a8070ff2f4ddde78880cfa3a50be3e9ab942dae1ab5ef7"
   }
  }
 },
 "nbformat": 4,
 "nbformat_minor": 2
}
