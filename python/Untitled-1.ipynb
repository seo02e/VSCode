{
 "cells": [
  {
   "cell_type": "markdown",
   "metadata": {},
   "source": []
  },
  {
   "cell_type": "code",
   "execution_count": 7,
   "metadata": {},
   "outputs": [
    {
     "ename": "IndentationError",
     "evalue": "expected an indented block (4065659820.py, line 20)",
     "output_type": "error",
     "traceback": [
      "\u001b[1;36m  Cell \u001b[1;32mIn [7], line 20\u001b[1;36m\u001b[0m\n\u001b[1;33m    for k in lines[1:]:\u001b[0m\n\u001b[1;37m                       ^\u001b[0m\n\u001b[1;31mIndentationError\u001b[0m\u001b[1;31m:\u001b[0m expected an indented block\n"
     ]
    }
   ],
   "source": [
    "from tkinter import Variable\n",
    "import numpy as np\n",
    "f = open('whale-data.txt', 'r')\n",
    "lines = f.readlines()\n",
    "f.close()\n",
    "arr1 =[] #string\n",
    "arr2 =[] #int\n",
    "arr3 =[] #float\n",
    "for line in lines[1:]:\n",
    "    lst  = line.split()\n",
    "    arr1.append(lst[0])\n",
    "    arr2.append(lst[1])\n",
    "    arr3.append(lst[2])\n",
    "arr1 = np.array(arr1)\n",
    "arr2 = np.array(arr2)\n",
    "arr3 = np.array(arr3)\n",
    "for k in arr1:\n",
    "    for j in arr1:\n",
    "        if(arr1[k]>arr1[j]):\n",
    "            temp = arr1[k]\n",
    "            arr1 = arr1[j]\n",
    "            arr1[j] = temp\n",
    "        \n",
    "for k in arr2:\n",
    "    for j in arr2:\n",
    "        if(arr1[k]>arr2[j]):\n",
    "            temp = arr2[k]\n",
    "            arr2 = arr2[j]\n",
    "            arr2[j] = temp\n",
    "\n",
    "for k in arr3:\n",
    "    for j in arr3:\n",
    "        if(arr3[k]>arr3[j]):\n",
    "            temp = arr3[k]\n",
    "            arr3 = arr3[j]\n",
    "            arr3[j] = temp\n",
    "\n",
    "arr2"
   ]
  },
  {
   "cell_type": "code",
   "execution_count": null,
   "metadata": {},
   "outputs": [],
   "source": []
  }
 ],
 "metadata": {
  "kernelspec": {
   "display_name": "Python 3.9.7 64-bit",
   "language": "python",
   "name": "python3"
  },
  "language_info": {
   "codemirror_mode": {
    "name": "ipython",
    "version": 3
   },
   "file_extension": ".py",
   "mimetype": "text/x-python",
   "name": "python",
   "nbconvert_exporter": "python",
   "pygments_lexer": "ipython3",
   "version": "3.9.7"
  },
  "orig_nbformat": 4,
  "vscode": {
   "interpreter": {
    "hash": "9801b2a827a76f5793a8070ff2f4ddde78880cfa3a50be3e9ab942dae1ab5ef7"
   }
  }
 },
 "nbformat": 4,
 "nbformat_minor": 2
}
