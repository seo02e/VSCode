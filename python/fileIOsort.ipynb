{
 "cells": [
  {
   "cell_type": "code",
   "execution_count": 1,
   "metadata": {},
   "outputs": [],
   "source": [
    "import numpy as np"
   ]
  },
  {
   "cell_type": "markdown",
   "metadata": {},
   "source": [
    "#### file read/write\n",
    "- open 함수를 이용한 읽기\n",
    "- f=open(filename, mode)\n",
    "    - 'r', 이것은 읽기 위해 파일을 여는 기본 모드입니다.\n",
    "    - 'w'인 경우 이 모드는 쓰기 위해 파일을 열고 파일이 없으면 새 파일을 만듭니다.\n",
    "    - 'a', 추가 모드에서 파일을 열고 파일 끝에 데이터를 추가합니다. 파일이 없으면 새 파일을 만듭니다.\n",
    "    - 'b', 바이너리 모드에서 파일을 엽니다.\n",
    "    - 'r+', 읽고 쓰기 위해 파일을 엽니다(생성하지 않음).\n",
    "    - 'w+', 쓰기 및 읽기용 파일을 열거나 생성하고 기존 내용을 버립니다.\n",
    "    - 'a+', 읽기 및 쓰기를 위해 파일을 열거나 만들고 파일 끝에 데이터를 추가합니다."
   ]
  },
  {
   "cell_type": "code",
   "execution_count": 2,
   "metadata": {},
   "outputs": [],
   "source": [
    "# 파일 쓰기\n",
    "f = open('test.txt', 'w')\n",
    "for i in range(5):\n",
    "    f.write(f\"This is line {i}\\n\")\n",
    "    \n",
    "f.close()"
   ]
  },
  {
   "cell_type": "code",
   "execution_count": null,
   "metadata": {},
   "outputs": [],
   "source": [
    "# 파일 추가\n",
    "f = open('test.txt', 'a')\n",
    "f.write(f\"This is another line\\n\")\n",
    "f.close()"
   ]
  },
  {
   "cell_type": "code",
   "execution_count": 12,
   "metadata": {},
   "outputs": [
    {
     "data": {
      "text/plain": [
       "'This is line 0\\nThis is line 1\\nThis is line 2\\nThis is line 3\\nThis is line 4\\nThis is another line\\n'"
      ]
     },
     "execution_count": 12,
     "metadata": {},
     "output_type": "execute_result"
    }
   ],
   "source": [
    "# 파일 읽기\n",
    "# 하나의 문자열 변수로 읽기\n",
    "f = open('test.txt', 'r')\n",
    "content = f.read()\n",
    "f.close()\n",
    "content"
   ]
  },
  {
   "cell_type": "code",
   "execution_count": 14,
   "metadata": {},
   "outputs": [
    {
     "data": {
      "text/plain": [
       "['This is line 0\\n',\n",
       " 'This is line 1\\n',\n",
       " 'This is line 2\\n',\n",
       " 'This is line 3\\n',\n",
       " 'This is line 4\\n',\n",
       " 'This is another line\\n']"
      ]
     },
     "execution_count": 14,
     "metadata": {},
     "output_type": "execute_result"
    }
   ],
   "source": [
    "# 각 line을 list에 넣는 방법\n",
    "f = open('test.txt', 'r')\n",
    "content = f.readlines()\n",
    "f.close()\n",
    "content"
   ]
  },
  {
   "cell_type": "code",
   "execution_count": 16,
   "metadata": {},
   "outputs": [
    {
     "name": "stdout",
     "output_type": "stream",
     "text": [
      "0\n",
      "1\n",
      "2\n",
      "3\n",
      "4\n",
      "line\n"
     ]
    }
   ],
   "source": [
    "# 각 line을 공백을 기준으로 분리하는 방법\n",
    "for line in content:\n",
    "    lst = line.split()\n",
    "    #print(lst)\n",
    "    print(lst[3])"
   ]
  },
  {
   "cell_type": "markdown",
   "metadata": {},
   "source": [
    "### 실습\n",
    "- whale-data.txt에는 각 line에 고래의 종류, 개체수, 평균 무게가 정리 되어 있다.\n",
    "- 이 파일을 읽어서 개체수로 sorting하여 'whale-population.txt'를 만든다.\n",
    "> - whale-data.txt를 읽어서 종류 string array, 개체수 integer array, 평균 무게 float array를 만들어라\n",
    ">    - header line은 무시할 것\n",
    "> - 세 array 모두 개체수에 따라 오름차순으로 정리한다.\n",
    "> - 정리한 array를 whale-population.txt에 차례대로 쓴다."
   ]
  }
 ],
 "metadata": {
  "kernelspec": {
   "display_name": "Python 3.9.7 64-bit",
   "language": "python",
   "name": "python3"
  },
  "language_info": {
   "codemirror_mode": {
    "name": "ipython",
    "version": 3
   },
   "file_extension": ".py",
   "mimetype": "text/x-python",
   "name": "python",
   "nbconvert_exporter": "python",
   "pygments_lexer": "ipython3",
   "version": "3.9.7"
  },
  "orig_nbformat": 4,
  "vscode": {
   "interpreter": {
    "hash": "9801b2a827a76f5793a8070ff2f4ddde78880cfa3a50be3e9ab942dae1ab5ef7"
   }
  }
 },
 "nbformat": 4,
 "nbformat_minor": 2
}
